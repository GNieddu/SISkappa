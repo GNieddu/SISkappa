{
 "cells": [
  {
   "cell_type": "code",
   "execution_count": 4,
   "metadata": {},
   "outputs": [],
   "source": [
    "import numpy as np\n",
    "import matplotlib.pyplot as plt\n",
    "import pandas as pd\n",
    "import os\n",
    "from scipy import stats\n",
    "from numpy import genfromtxt\n",
    "from scipy.integrate import quad\n",
    "import matplotlib.ticker as mtick\n",
    "import scipy\n",
    "import pickle\n",
    "import seaborn as sns\n",
    "\n",
    "from matplotlib import cm\n",
    "from scipy.optimize import differential_evolution\n",
    "\n",
    "datPath = 'data/in/'"
   ]
  },
  {
   "cell_type": "markdown",
   "metadata": {},
   "source": [
    "## The approximation :: Note, doesn't have a beta term!!"
   ]
  },
  {
   "cell_type": "code",
   "execution_count": 5,
   "metadata": {},
   "outputs": [],
   "source": [
    "\n",
    "mu = 5e-5\n",
    "gam=0.33\n",
    "\n",
    "lg_kappa_vec = np.linspace(-9,-6,20)\n",
    "lg_N_vec = (mu+gam+np.exp(lg_kappa_vec))*np.exp(-0.5772) - lg_kappa_vec\n",
    "\n",
    "\n",
    "# fig = plt.figure()\n",
    "# ax = fig.add_subplot(111)\n",
    "# font = {'family' : 'normal',\n",
    "#         'weight' : 'normal',\n",
    "#         'size'   : 12}\n",
    "# plt.rc('font', **font)\n",
    "# plt.plot(lg_kappa_vec,lg_N_vec)\n"
   ]
  },
  {
   "cell_type": "markdown",
   "metadata": {},
   "source": [
    "## Using Digamma functions"
   ]
  },
  {
   "cell_type": "code",
   "execution_count": 83,
   "metadata": {},
   "outputs": [
    {
     "data": {
      "text/plain": [
       "3.7199024537260863"
      ]
     },
     "execution_count": 83,
     "metadata": {},
     "output_type": "execute_result"
    }
   ],
   "source": [
    "# def deriv_PDF_atzero(N,mu,gam,beta,kappa):\n",
    "#     return(np.log(N) + scipy.special.digamma(N*kappa/beta) - scipy.special.digamma((mu+gam+kappa)*N/beta) - scipy.special.digamma(1))\n",
    "# deriv_PDF_atzero(100,1e-5,0.33,0.1,1e-1)\n",
    "\n",
    "# def deriv_PDF_atzero2(lnN,mu,gam,beta,kappa):\n",
    "#     return(np.abs(np.log( np.exp(lnN) ) + scipy.special.digamma(np.exp(lnN)*kappa/beta) - scipy.special.digamma((mu+gam+kappa)*np.exp(lnN)/beta) - scipy.special.digamma(1)))\n",
    "# deriv_PDF_atzero2(np.log(100),1e-5,0.33,0.1,1e-1)\n"
   ]
  },
  {
   "cell_type": "code",
   "execution_count": 90,
   "metadata": {},
   "outputs": [
    {
     "data": {
      "text/plain": [
       "5.3675485281070205"
      ]
     },
     "execution_count": 90,
     "metadata": {},
     "output_type": "execute_result"
    }
   ],
   "source": [
    "# # Single example\n",
    "# from scipy.optimize import differential_evolution\n",
    "\n",
    "# kappa_in = 1e-6\n",
    "# def f(x):\n",
    "#     return( deriv_PDF_atzero2(x,1e-5,0.33,0.1,kappa_in) )\n",
    "\n",
    "# bounds = [(0,200)]\n",
    "# res = differential_evolution(f, bounds)\n",
    "# np.log10(np.exp(res.x[0]))\n"
   ]
  },
  {
   "cell_type": "code",
   "execution_count": 6,
   "metadata": {},
   "outputs": [],
   "source": [
    "def deriv_PDF_atzero_eqzero(lnN,mu,gam,beta,log10_kappa):\n",
    "    return(np.abs(np.log( np.exp(lnN) ) + scipy.special.digamma(np.exp(lnN)*(10**log10_kappa)/beta) - scipy.special.digamma((mu+gam+(10**log10_kappa))*np.exp(lnN)/beta) - scipy.special.digamma(1)))\n",
    "def deriv_PDF_atzero_eqone(lnN,mu,gam,beta,log10_kappa):\n",
    "    return(np.abs(np.log( np.exp(lnN) ) + scipy.special.digamma(np.exp(lnN)*(10**log10_kappa)/beta) - scipy.special.digamma((mu+gam+(10**log10_kappa))*np.exp(lnN)/beta) - scipy.special.digamma(1) - 1))\n",
    "\n",
    "len_out = 100\n",
    "log10_kappa_vec = np.linspace(-9,-6,len_out)\n",
    "# Initialize results vector\n",
    "res_vec_zero = np.zeros([len_out,2])\n",
    "for i in range(len(log10_kappa_vec)):\n",
    "    log10_kappa_in = log10_kappa_vec[i]\n",
    "    def f(x):\n",
    "        return( deriv_PDF_atzero_eqzero(x,1e-5,0.33,0.1,log10_kappa_in) )\n",
    "    bounds = [(0,20)]\n",
    "    res = differential_evolution(f, bounds)\n",
    "    res_vec_zero[i,0] = log10_kappa_in\n",
    "    res_vec_zero[i,1] = np.log10(np.exp(res.x[0]))\n",
    "#     print(res.fun) # Visual check that we are getting approximately zero [good]\n",
    "\n",
    "\n",
    "res_vec_one = np.zeros([len_out,2])\n",
    "for i in range(len(log10_kappa_vec)):\n",
    "    log10_kappa_in = log10_kappa_vec[i]\n",
    "    def f(x):\n",
    "        return( deriv_PDF_atzero_eqone(x,1e-5,0.33,0.1,log10_kappa_in) )\n",
    "    bounds = [(0,20)]\n",
    "    res = differential_evolution(f, bounds)\n",
    "    res_vec_one[i,0] = log10_kappa_in\n",
    "    res_vec_one[i,1] = np.log10(np.exp(res.x[0]))\n",
    "#     print(res.fun)\n",
    "    \n",
    "    \n",
    "#"
   ]
  },
  {
   "cell_type": "code",
   "execution_count": 7,
   "metadata": {},
   "outputs": [
    {
     "data": {
      "text/plain": [
       "[<matplotlib.lines.Line2D at 0x7fec8f868fd0>]"
      ]
     },
     "execution_count": 7,
     "metadata": {},
     "output_type": "execute_result"
    },
    {
     "data": {
      "image/png": "[encoded data removed]",
      "text/plain": [
       "<Figure size 432x288 with 1 Axes>"
      ]
     },
     "metadata": {
      "needs_background": "light"
     },
     "output_type": "display_data"
    }
   ],
   "source": [
    "mu = 5e-5\n",
    "gam=0.33\n",
    "\n",
    "lg_kappa_vec = np.linspace(-9,-6,20)\n",
    "lg_N_vec = (mu+gam+np.exp(lg_kappa_vec))*np.exp(-0.5772) - lg_kappa_vec\n",
    "\n",
    "\n",
    "fig = plt.figure()\n",
    "ax = fig.add_subplot(111)\n",
    "font = {'family' : 'normal',\n",
    "        'weight' : 'normal',\n",
    "        'size'   : 12}\n",
    "plt.rc('font', **font)\n",
    "plt.plot(lg_kappa_vec,lg_N_vec,color='b')\n",
    "plt.plot(res_vec_zero[:,0],res_vec_zero[:,1],color='k')\n",
    "plt.plot(res_vec_one[:,0],res_vec_one[:,1],color='r')"
   ]
  }
 ],
 "metadata": {
  "@webio": {
   "lastCommId": null,
   "lastKernelId": null
  },
  "kernelspec": {
   "display_name": "Python 3",
   "language": "python",
   "name": "python3"
  },
  "language_info": {
   "codemirror_mode": {
    "name": "ipython",
    "version": 3
   },
   "file_extension": ".py",
   "mimetype": "text/x-python",
   "name": "python",
   "nbconvert_exporter": "python",
   "pygments_lexer": "ipython3",
   "version": "3.7.7"
  }
 },
 "nbformat": 4,
 "nbformat_minor": 2
}
