{
 "cells": [
  {
   "cell_type": "code",
   "execution_count": null,
   "metadata": {},
   "outputs": [],
   "source": [
    "import numpy as np\n",
    "import matplotlib.pyplot as plt\n",
    "# import pickle\n",
    "import scipy\n",
    "from scipy.integrate import solve_ivp\n",
    "from numpy import genfromtxt\n",
    "# from scipy.integrate import quad"
   ]
  },
  {
   "cell_type": "code",
   "execution_count": 2,
   "metadata": {},
   "outputs": [],
   "source": [
    "# Progress bar\n",
    "import time, sys\n",
    "from IPython.display import clear_output\n",
    "\n",
    "def update_progress(progress):\n",
    "    bar_length = 20\n",
    "    if isinstance(progress, int):\n",
    "        progress = float(progress)\n",
    "    if not isinstance(progress, float):\n",
    "        progress = 0\n",
    "    if progress < 0:\n",
    "        progress = 0\n",
    "    if progress >= 1:\n",
    "        progress = 1\n",
    "\n",
    "    block = int(round(bar_length * progress))\n",
    "\n",
    "    clear_output(wait = True)\n",
    "    text = \"Progress: [{0}] {1:.1f}%\".format( \"#\" * block + \"-\" * (bar_length - block), progress * 100)\n",
    "    print(text)\n",
    "   "
   ]
  },
  {
   "cell_type": "code",
   "execution_count": 3,
   "metadata": {},
   "outputs": [],
   "source": [
    "def SIR(t,y,param):\n",
    "    mu, beta, kappa, sigma, N = param\n",
    "    S, I, R = y\n",
    "    dSdt = mu*N - mu*S - beta*I*S / N - kappa * S\n",
    "    dIdt = beta*I*S / N + kappa * S - mu*I - sigma*I\n",
    "    dRdt = sigma*I - mu*R\n",
    "    return [dSdt,dIdt,dRdt]"
   ]
  },
  {
   "cell_type": "code",
   "execution_count": 4,
   "metadata": {},
   "outputs": [],
   "source": [
    "# make sample list of kappa values\n",
    "kappa_list = 10.0 ** (np.linspace(-7,-4,30))\n",
    "# make sample list of N values\n",
    "N_list = 10.0 ** (np.linspace(2,5,30))\n",
    "\n",
    "# kappa_list = kappa_list[-5:-1]\n",
    "# N_list = N_list[-5:-1]\n",
    "t_points = np.linspace(0,30000,5)"
   ]
  },
  {
   "cell_type": "code",
   "execution_count": 5,
   "metadata": {},
   "outputs": [
    {
     "name": "stdout",
     "output_type": "stream",
     "text": [
      "Progress: [####################] 100.0%\n"
     ]
    }
   ],
   "source": [
    "projPath = '/Users/MegGarr/Documents/from_LANL/SIS_SIRk/alt_pdf/data/in/'\n",
    "def genFlName(mdl_name, kappa_val, N_val):\n",
    "    kappa = kappa_val\n",
    "    ku = \"%.3E\" % kappa\n",
    "    ku = ku.replace(\".\",\"p\")\n",
    "    ku = ku.replace(\"-\",\"m\")\n",
    "    ku = ku.replace(\"+\",\"\")\n",
    "\n",
    "    N = N_val\n",
    "    Nu = \"%.3E\" % N\n",
    "    Nu = Nu.replace(\".\",\"p\")\n",
    "    Nu = Nu.replace(\"-\",\"m\")\n",
    "    Nu = Nu.replace(\"+\",\"\")\n",
    "\n",
    "    flname = mdl_name + 'k_keq_' + ku + '_Neq_' +  Nu\n",
    "    return flname\n",
    "\n",
    "def meanBehavior(mdl_name,kappa_list,N_list):\n",
    "    n_kappa = len(kappa_list)\n",
    "    n_pop = len(N_list)\n",
    "    kldiv_mat = np.zeros([n_kappa,n_pop])\n",
    "    k_val_vec = np.zeros(n_kappa)\n",
    "    N_val_vec = np.zeros(n_pop)\n",
    "    \n",
    "    Imean_mat = np.zeros([len(kappa_list),len(N_list)])\n",
    "    Smean_mat = np.zeros([len(kappa_list),len(N_list)])\n",
    "    kappa_mat = np.zeros([len(kappa_list),len(N_list)])\n",
    "    N_mat = np.zeros([len(kappa_list),len(N_list)])\n",
    "            \n",
    "    number_of_elements_a = len(kappa_list)\n",
    "    for i in range(len(kappa_list)):\n",
    "        update_progress(i / number_of_elements_a)\n",
    "        for j in range(len(N_list)):\n",
    "            \n",
    "            # Make strings for file names\n",
    "            kappa = kappa_list[i]\n",
    "            ku = \"%.3E\" % kappa\n",
    "            ku = ku.replace(\".\",\"p\")\n",
    "            ku = ku.replace(\"-\",\"m\")\n",
    "            ku = ku.replace(\"+\",\"\")\n",
    "\n",
    "            N = N_list[j]\n",
    "            Nu = \"%.3E\" % N\n",
    "            Nu = Nu.replace(\".\",\"p\")\n",
    "            Nu = Nu.replace(\"-\",\"m\")\n",
    "            Nu = Nu.replace(\"+\",\"\")\n",
    "\n",
    "            # \n",
    "            # mu, beta, kappa, sigma, N\n",
    "            param = np.array([5e-5, 0.5, kappa, 1, N])                \n",
    "\n",
    "            ic_util = np.array([N,0,0])\n",
    "\n",
    "            tend=t_points[-1]\n",
    "            sol1 = solve_ivp(lambda t, y: SIR(t, y, param),\n",
    "                             (0, tend),\n",
    "                             ic_util,\n",
    "                             method='RK45',\n",
    "                             t_eval = t_points,\n",
    "                             atol = 1e-10,\n",
    "                             rtol = 1e-10)\n",
    "            Smean_ode = np.floor(sol1.y[0][-1])+1\n",
    "            Imean_ode = np.floor(sol1.y[1][-1])+1\n",
    "\n",
    "            Smean_mat[i,j] = Smean_ode\n",
    "            Imean_mat[i,j] = Imean_ode\n",
    "         \n",
    "    update_progress(1)\n",
    "            \n",
    "    np.savetxt(mdl_name + \"_IC_S.csv\", Smean_mat, delimiter=\",\")\n",
    "    np.savetxt(mdl_name + \"_IC_I.csv\", Imean_mat, delimiter=\",\")\n",
    "            \n",
    "meanBehavior('SIR',kappa_list,N_list)"
   ]
  },
  {
   "cell_type": "code",
   "execution_count": null,
   "metadata": {},
   "outputs": [],
   "source": []
  },
  {
   "cell_type": "code",
   "execution_count": null,
   "metadata": {},
   "outputs": [],
   "source": []
  },
  {
   "cell_type": "code",
   "execution_count": null,
   "metadata": {},
   "outputs": [],
   "source": []
  },
  {
   "cell_type": "code",
   "execution_count": null,
   "metadata": {},
   "outputs": [],
   "source": [
    "import time, sys\n",
    "from IPython.display import clear_output\n",
    "\n",
    "def update_progress(progress):\n",
    "    bar_length = 20\n",
    "    if isinstance(progress, int):\n",
    "        progress = float(progress)\n",
    "    if not isinstance(progress, float):\n",
    "        progress = 0\n",
    "    if progress < 0:\n",
    "        progress = 0\n",
    "    if progress >= 1:\n",
    "        progress = 1\n",
    "\n",
    "    block = int(round(bar_length * progress))\n",
    "\n",
    "    clear_output(wait = True)\n",
    "    text = \"Progress: [{0}] {1:.1f}%\".format( \"#\" * block + \"-\" * (bar_length - block), progress * 100)\n",
    "    print(text)\n",
    "    \n",
    "number_of_elements = 1000\n",
    "\n",
    "for i in range(number_of_elements):\n",
    "    time.sleep(0.0001) #Replace this with a real computation\n",
    "    update_progress(i / number_of_elements)\n",
    "\n",
    "update_progress(1)"
   ]
  },
  {
   "cell_type": "code",
   "execution_count": null,
   "metadata": {},
   "outputs": [],
   "source": []
  },
  {
   "cell_type": "code",
   "execution_count": null,
   "metadata": {},
   "outputs": [],
   "source": []
  }
 ],
 "metadata": {
  "@webio": {
   "lastCommId": null,
   "lastKernelId": null
  },
  "kernelspec": {
   "display_name": "Python 3",
   "language": "python",
   "name": "python3"
  },
  "language_info": {
   "codemirror_mode": {
    "name": "ipython",
    "version": 3
   },
   "file_extension": ".py",
   "mimetype": "text/x-python",
   "name": "python",
   "nbconvert_exporter": "python",
   "pygments_lexer": "ipython3",
   "version": "3.7.3"
  }
 },
 "nbformat": 4,
 "nbformat_minor": 2
}
