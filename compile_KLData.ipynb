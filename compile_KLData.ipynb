{
 "cells": [
  {
   "cell_type": "code",
   "execution_count": 24,
   "metadata": {},
   "outputs": [],
   "source": [
    "import numpy as np\n",
    "import matplotlib.pyplot as plt\n",
    "import pandas as pd\n",
    "import os\n",
    "from scipy import stats\n",
    "from numpy import genfromtxt\n",
    "from scipy.integrate import quad\n",
    "import matplotlib.ticker as mtick\n",
    "import scipy\n",
    "import pickle"
   ]
  },
  {
   "cell_type": "code",
   "execution_count": 25,
   "metadata": {},
   "outputs": [],
   "source": [
    "projPath = '/Users/MegGarr/Documents/from_LANL/SIS_SIRk/alt_pdf/data/out/'"
   ]
  },
  {
   "cell_type": "code",
   "execution_count": 26,
   "metadata": {},
   "outputs": [],
   "source": [
    "def lgm(x):\n",
    "    return scipy.special.loggamma(x)\n",
    "# calculate KL divergence between two discrete pmfs\n",
    "def KLDIV(P,Q):\n",
    "    totlength = len(P)+1\n",
    "    kldiv_vec = np.zeros(totlength)\n",
    "    j=0\n",
    "    for i in P:\n",
    "        if i!=0 and Q[j]!=0:\n",
    "            kldiv_vec[j] = i * (np.log(i) - np.log(Q[j]))\n",
    "        else:\n",
    "            kldiv_vec[j] = 0\n",
    "        j+=1\n",
    "    return kldiv_vec.sum()\n",
    "\n",
    "# Make pmf from observation data\n",
    "def make_pmf(inf_dat):\n",
    "    n_obs = inf_dat.shape[0] # total number of observations\n",
    "    maxI = inf_dat.max() # largets I-value observed\n",
    "    count_I = np.zeros(int(maxI)+1) # make count vector for 0-maxI\n",
    "    pmf_I = np.zeros(int(maxI)+1) # make pmf vector for 0-maxI\n",
    "    for i in range(int(maxI)+1):\n",
    "        count_I[i] = (inf_dat==float(i)).sum()\n",
    "        pmf_I[i] = count_I[i] / n_obs\n",
    "    return pmf_I\n",
    "# Make SISk pmf / pdf\n",
    "def SISk_pmf(I,κ,Npop):\n",
    "    def SISk_pdf_u(I,param):\n",
    "        mu, beta, kappa, gam, N = param\n",
    "        I = np.array(I)\n",
    "        pi0 = 1 # will normalize below\n",
    "        log_density = lgm(N+1) + lgm(N*kappa/beta + I) + I * np.log(beta / ((mu+gam+kappa)*N)) - lgm(N-I+1) - lgm(N*kappa/beta) - lgm(I+1)\n",
    "#         print(log_density)\n",
    "        return np.exp(log_density)\n",
    "\n",
    "    param = np.array([5e-5, 0.5, κ, 1, Npop]) \n",
    "\n",
    "    def SISk_pdf_unnorm(I):\n",
    "        return SISk_pdf_u(I,param)\n",
    "    \n",
    "#     AUC = quad(SISk_pdf_unnorm,0,np.inf)\n",
    "    AUC = quad(SISk_pdf_unnorm,0,I.max()+10)\n",
    "    pynot = AUC[0]\n",
    "    def SISk_pdf(I):\n",
    "        return SISk_pdf_unnorm(I) / pynot\n",
    "\n",
    "    def SISk_pmf_u(I):\n",
    "        maxI = max(I)+1\n",
    "        AUC_I = np.zeros(int(maxI))\n",
    "        for i in range(int(maxI)):\n",
    "            AUC_I[i] = quad(SISk_pdf,i,i+1)[0]\n",
    "        return AUC_I\n",
    "    return SISk_pmf_u(I)\n",
    "\n",
    "def plotPDF(I,κ,Npop):\n",
    "    pmf_u = SISk_pmf(I,κ,Npop)\n",
    "    plt.plot(pmf_u)\n",
    "    \n",
    "def genFlName(mdl_name, kappa_val, N_val):\n",
    "    kappa = kappa_val\n",
    "    ku = \"%.3E\" % kappa\n",
    "    ku = ku.replace(\".\",\"p\")\n",
    "    ku = ku.replace(\"-\",\"m\")\n",
    "    ku = ku.replace(\"+\",\"\")\n",
    "\n",
    "    N = N_val\n",
    "    Nu = \"%.3E\" % N\n",
    "    Nu = Nu.replace(\".\",\"p\")\n",
    "    Nu = Nu.replace(\"-\",\"m\")\n",
    "    Nu = Nu.replace(\"+\",\"\")\n",
    "\n",
    "    flname = mdl_name + 'k_keq_' + ku + '_Neq_' +  Nu\n",
    "    return flname"
   ]
  },
  {
   "cell_type": "markdown",
   "metadata": {},
   "source": [
    "# Lists for loading specific kappa/N pairs"
   ]
  },
  {
   "cell_type": "code",
   "execution_count": 27,
   "metadata": {},
   "outputs": [],
   "source": [
    "# make sample list of kappa values\n",
    "kappa_list = 10.0 ** (np.linspace(-7,-4,30))\n",
    "# make sample list of N values\n",
    "N_list = 10.0 ** (np.linspace(2,5,30))"
   ]
  },
  {
   "cell_type": "code",
   "execution_count": 28,
   "metadata": {},
   "outputs": [],
   "source": [
    "def mk_heatmap_data(mdl_name,kappa_list,N_list):\n",
    "    n_kappa = len(kappa_list)\n",
    "    n_pop = len(N_list)\n",
    "    kldiv_mat = np.zeros([n_kappa,n_pop])\n",
    "    k_val_vec = np.zeros(n_kappa)\n",
    "    N_val_vec = np.zeros(n_pop)\n",
    "            \n",
    "    for i in range(len(kappa_list)):\n",
    "        for j in range(len(N_list)):\n",
    "            # Make strings for file names\n",
    "            kappa = kappa_list[i]\n",
    "            ku = \"%.3E\" % kappa\n",
    "            ku = ku.replace(\".\",\"p\")\n",
    "            ku = ku.replace(\"-\",\"m\")\n",
    "            ku = ku.replace(\"+\",\"\")\n",
    "\n",
    "            N = N_list[j]\n",
    "            Nu = \"%.3E\" % N\n",
    "            Nu = Nu.replace(\".\",\"p\")\n",
    "            Nu = Nu.replace(\"-\",\"m\")\n",
    "            Nu = Nu.replace(\"+\",\"\")\n",
    "\n",
    "            flname = mdl_name + 'k_keq_' + ku + '_Neq_' +  Nu\n",
    "            # load the sim-data\n",
    "            simdat = genfromtxt('/Users/MegGarr/Documents/from_LANL/SIS_SIRk/alt_pdf/data/out/' +\n",
    "                                mdl_name + '/' + flname, delimiter=',')\n",
    "            # Organize the data and find KL div\n",
    "            inf_data = np.array(simdat[:,1])\n",
    "                \n",
    "            # make pmf from sim-data\n",
    "            pmf_I = make_pmf(inf_data)\n",
    "            # make SISk pmf to align with sim-data\n",
    "            maxI = inf_data.max() # largets I-value observed\n",
    "            pmf_SISk = SISk_pmf(np.linspace(0,int(maxI),int(maxI)+1),kappa,N)\n",
    "            # calculate KL divergence\n",
    "            kldiv_mat[i,j] = KLDIV(pmf_I,pmf_SISk)\n",
    "            k_val_vec[i] = simdat[0,2] # kappa values\n",
    "            N_val_vec[j] = simdat[0,3] # N values\n",
    "            \n",
    "    kl_dict = {\"KLDiv Matrix\" : kldiv_mat,\n",
    "              \"kval Vector\" : k_val_vec,\n",
    "              \"Nval Vector\" : N_val_vec}\n",
    "    \n",
    "    with open(mdl_name+'KLdat.pkl', 'wb') as handle:\n",
    "        pickle.dump(kl_dict, handle, protocol=pickle.HIGHEST_PROTOCOL)\n",
    "\n",
    "    return kl_dict"
   ]
  },
  {
   "cell_type": "code",
   "execution_count": 9,
   "metadata": {},
   "outputs": [],
   "source": [
    "SI_kldict = mk_heatmap_data('SI',kappa_list,N_list)"
   ]
  },
  {
   "cell_type": "code",
   "execution_count": 10,
   "metadata": {},
   "outputs": [],
   "source": [
    "SIS_kldict = mk_heatmap_data('SIS',kappa_list,N_list)"
   ]
  },
  {
   "cell_type": "code",
   "execution_count": 11,
   "metadata": {},
   "outputs": [],
   "source": [
    "SIR_kldict = mk_heatmap_data('SIR',kappa_list,N_list)"
   ]
  },
  {
   "cell_type": "code",
   "execution_count": 30,
   "metadata": {},
   "outputs": [],
   "source": [
    "SEIR_kldict = mk_heatmap_data('SEIR',kappa_list,N_list)"
   ]
  },
  {
   "cell_type": "code",
   "execution_count": 18,
   "metadata": {},
   "outputs": [],
   "source": [
    "simdat = genfromtxt('/Users/MegGarr/Documents/from_LANL/SIS_SIRk/alt_pdf/data/out/SEIR/SEIRk_keq_1p000Em04_Neq_1p172E04',\n",
    "                    delimiter=',')\n",
    "plt.plot(simdat[:,1])"
   ]
  },
  {
   "cell_type": "code",
   "execution_count": 23,
   "metadata": {},
   "outputs": [
    {
     "data": {
      "text/plain": [
       "[<matplotlib.lines.Line2D at 0x7fb453d646d8>]"
      ]
     },
     "execution_count": 23,
     "metadata": {},
     "output_type": "execute_result"
    },
    {
     "data": {
      "image/png": "[encoded data removed]",
      "text/plain": [
       "<Figure size 432x288 with 1 Axes>"
      ]
     },
     "metadata": {
      "needs_background": "light"
     },
     "output_type": "display_data"
    }
   ],
   "source": []
  },
  {
   "cell_type": "code",
   "execution_count": null,
   "metadata": {},
   "outputs": [],
   "source": []
  }
 ],
 "metadata": {
  "@webio": {
   "lastCommId": null,
   "lastKernelId": null
  },
  "kernelspec": {
   "display_name": "Python 3",
   "language": "python",
   "name": "python3"
  },
  "language_info": {
   "codemirror_mode": {
    "name": "ipython",
    "version": 3
   },
   "file_extension": ".py",
   "mimetype": "text/x-python",
   "name": "python",
   "nbconvert_exporter": "python",
   "pygments_lexer": "ipython3",
   "version": "3.7.3"
  }
 },
 "nbformat": 4,
 "nbformat_minor": 2
}
