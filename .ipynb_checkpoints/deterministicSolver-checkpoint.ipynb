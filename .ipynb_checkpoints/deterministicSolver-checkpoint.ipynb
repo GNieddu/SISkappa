{
 "cells": [
  {
   "cell_type": "code",
   "execution_count": 1,
   "metadata": {},
   "outputs": [],
   "source": [
    "import numpy as np\n",
    "import matplotlib.pyplot as plt\n",
    "import pickle\n",
    "import scipy\n",
    "from scipy.integrate import solve_ivp\n",
    "from numpy import genfromtxt\n",
    "from scipy.integrate import quad\n",
    "\n",
    "datPath = '/data/out/'"
   ]
  },
  {
   "cell_type": "code",
   "execution_count": 2,
   "metadata": {},
   "outputs": [],
   "source": [
    "def SI(t,y,param):\n",
    "    mu, beta, kappa, sigma, N = param\n",
    "    I = y\n",
    "    dIdt = beta*I*(N-I) / N + kappa * (N-I) - (mu + sigma)*I\n",
    "    return [dIdt]"
   ]
  },
  {
   "cell_type": "code",
   "execution_count": 3,
   "metadata": {},
   "outputs": [],
   "source": [
    "def SIS(t,y,param):\n",
    "    mu, beta, kappa, sigma, N = param\n",
    "    S, I = y\n",
    "    dSdt = mu*N - mu*S - beta*I*S / N - kappa * S + sigma*I\n",
    "    dIdt = beta*I*S / N + kappa * S - mu*I - sigma*I\n",
    "    return [dSdt,dIdt]"
   ]
  },
  {
   "cell_type": "code",
   "execution_count": 4,
   "metadata": {},
   "outputs": [],
   "source": [
    "def SIR(t,y,param):\n",
    "    mu, beta, kappa, sigma, N = param\n",
    "    S, I, R = y\n",
    "    dSdt = mu*N - mu*S - beta*I*S / N - kappa * S\n",
    "    dIdt = beta*I*S / N + kappa * S - mu*I - sigma*I\n",
    "    dRdt = sigma*I - mu*R\n",
    "    return [dSdt,dIdt,dRdt]"
   ]
  },
  {
   "cell_type": "code",
   "execution_count": 5,
   "metadata": {},
   "outputs": [],
   "source": [
    "def SEIR(t,y,param):\n",
    "    mu, beta, kappa, sigma, N = param\n",
    "    S, E, I, R = y\n",
    "    dSdt = mu*N - mu*S - beta*I*S / N - kappa * S\n",
    "    dEdt = beta*I*S / N + kappa * S - (1/3)*E - mu*E\n",
    "    dIdt = (1/3)*E - mu*I - sigma*I\n",
    "    dRdt = sigma*I - mu*R\n",
    "    return [dSdt,dEdt,dIdt,dRdt]"
   ]
  },
  {
   "cell_type": "code",
   "execution_count": 6,
   "metadata": {},
   "outputs": [],
   "source": [
    "# make sample list of kappa values\n",
    "kappa_list = 10.0 ** (np.linspace(-7,-4,30))\n",
    "# make sample list of N values\n",
    "N_list = 10.0 ** (np.linspace(2,5,30))\n",
    "\n",
    "# kappa_list = kappa_list[-5:-1]\n",
    "# N_list = N_list[-5:-1]\n",
    "t_points = np.linspace(0,30000,51)"
   ]
  },
  {
   "cell_type": "markdown",
   "metadata": {},
   "source": [
    "## plotBoth function for SEIR"
   ]
  },
  {
   "cell_type": "code",
   "execution_count": 7,
   "metadata": {},
   "outputs": [],
   "source": [
    "def plotBoth(mdl_name,kappa_val,N_val):\n",
    "    \n",
    "    kappa = kappa_val\n",
    "    ku = \"%.3E\" % kappa\n",
    "    ku = ku.replace(\".\",\"p\")\n",
    "    ku = ku.replace(\"-\",\"m\")\n",
    "    ku = ku.replace(\"+\",\"\")\n",
    "\n",
    "    N = N_val\n",
    "    Nu = \"%.3E\" % N\n",
    "    Nu = Nu.replace(\".\",\"p\")\n",
    "    Nu = Nu.replace(\"-\",\"m\")\n",
    "    Nu = Nu.replace(\"+\",\"\")\n",
    "\n",
    "    flname = mdl_name + 'k_keq_' + ku + '_Neq_' +  Nu\n",
    "    flname2 = 'SI' + 'k_keq_' + ku + '_Neq_' +  Nu\n",
    "    # load the sim-data\n",
    "    simdat = genfromtxt('.' + datPath + mdl_name + '/' + flname, delimiter=',')\n",
    "    simdat2 = genfromtxt('.' + datPath + 'SI' + '/' + flname2, delimiter=',')\n",
    "\n",
    "    #\n",
    "    ##\n",
    "    ###\n",
    "    ####\n",
    "    ###\n",
    "    ##\n",
    "    #\n",
    "\n",
    "    # \n",
    "    # mu, beta, kappa, sigma, N\n",
    "    param = np.array([5e-5, 0.5, kappa, 1, N])\n",
    "\n",
    "    ic_util = np.array([N,0,0,0])\n",
    "    tend=t_points[-1]\n",
    "    sol1 = solve_ivp(lambda t, y: SEIR(t, y, param),\n",
    "                     (0, tend),\n",
    "                     ic_util,\n",
    "                     method='RK45',\n",
    "                     t_eval = t_points,\n",
    "                     atol = 1e-6,\n",
    "                     rtol = 1e-6)\n",
    "\n",
    "    ic_util = np.array([0])\n",
    "    tend=t_points[-1]\n",
    "    sol2 = solve_ivp(lambda t, y: SI(t, y, param),\n",
    "                     (0, tend),\n",
    "                     ic_util,\n",
    "                     method='RK45',\n",
    "                     t_eval = t_points,\n",
    "                     atol = 1e-4,\n",
    "                     rtol = 1e-4)\n",
    "\n",
    "#     plt.plot(sol1.t, sol1.y[2][:],'k-')\n",
    "    plt.plot(simdat[:,0],simdat[:,1],'g-')\n",
    "    plt.plot(simdat2[:,0],simdat2[:,1],'g-')\n",
    "    plt.axhline(y=sol1.y[2][-1], color='b', linestyle='-')\n",
    "    plt.axhline(y=sol2.y[0][-1], color='k', linestyle='-')\n",
    "#     plt.plot(sol1.t,sol1.y[2], color='b', linestyle='-')\n",
    "#     plt.plot(sol2.t,sol2.y[0], color='k', linestyle='-')\n",
    "\n",
    "\n",
    "\n",
    "    plt.axis([0, 2000, 0, 40])\n",
    "\n"
   ]
  },
  {
   "cell_type": "markdown",
   "metadata": {},
   "source": [
    "## 1DSIS and SEIR - Deterministic vs Stochastic\n",
    "1. Note that the deterministic solver reached equilibrium, and that equilibrium value is being shown, not an actual calculated time series. Uncomment code above to see the time series.\n",
    "1. SEIR is observed to appear stationary for ten times this time scale, again uncomment code above to see longer time series for SEIR."
   ]
  },
  {
   "cell_type": "code",
   "execution_count": null,
   "metadata": {},
   "outputs": [],
   "source": [
    "print(kappa_list[-1])\n",
    "print(N_list[-1])\n",
    "plotBoth('SEIR',kappa_list[-1],N_list[-1])"
   ]
  },
  {
   "cell_type": "markdown",
   "metadata": {},
   "source": [
    "## plotBoth function for SIR\n",
    "...\n",
    "Note: It is easier to copy and paste the above function and change some indexes then to make completely generalized function. The biggest change has to do with indexing to make sure that we are plotting the infectious class."
   ]
  },
  {
   "cell_type": "code",
   "execution_count": 38,
   "metadata": {},
   "outputs": [],
   "source": [
    "def plotBoth(mdl_name,kappa_val,N_val):\n",
    "    \n",
    "    kappa = kappa_val\n",
    "    ku = \"%.3E\" % kappa\n",
    "    ku = ku.replace(\".\",\"p\")\n",
    "    ku = ku.replace(\"-\",\"m\")\n",
    "    ku = ku.replace(\"+\",\"\")\n",
    "\n",
    "    N = N_val\n",
    "    Nu = \"%.3E\" % N\n",
    "    Nu = Nu.replace(\".\",\"p\")\n",
    "    Nu = Nu.replace(\"-\",\"m\")\n",
    "    Nu = Nu.replace(\"+\",\"\")\n",
    "\n",
    "    flname = mdl_name + 'k_keq_' + ku + '_Neq_' +  Nu\n",
    "    flname2 = 'SI' + 'k_keq_' + ku + '_Neq_' +  Nu\n",
    "    # load the sim-data\n",
    "    simdat = genfromtxt('.' + datPath + mdl_name + '/' + flname, delimiter=',')\n",
    "    simdat2 = genfromtxt('.' + datPath + 'SI' + '/' + flname2, delimiter=',')\n",
    "\n",
    "    #\n",
    "    ##\n",
    "    ###\n",
    "    ####\n",
    "    ###\n",
    "    ##\n",
    "    #\n",
    "\n",
    "    # \n",
    "    # mu, beta, kappa, sigma, N\n",
    "    param = np.array([5e-5, 0.5, kappa, 1, N])\n",
    "\n",
    "    ic_util = np.array([N,0,0])\n",
    "    tend=t_points[-1]\n",
    "    sol1 = solve_ivp(lambda t, y: SIR(t, y, param),\n",
    "                     (0, tend),\n",
    "                     ic_util,\n",
    "                     method='RK45',\n",
    "                     t_eval = t_points,\n",
    "                     atol = 1e-6,\n",
    "                     rtol = 1e-6)\n",
    "\n",
    "    ic_util = np.array([0])\n",
    "    sol2 = solve_ivp(lambda t, y: SI(t, y, param),\n",
    "                     (0, tend),\n",
    "                     ic_util,\n",
    "                     method='RK45',\n",
    "                     t_eval = t_points,\n",
    "                     atol = 1e-4,\n",
    "                     rtol = 1e-4)\n",
    "\n",
    "    plt.plot(simdat[:,0],simdat[:,1],'g-')\n",
    "    plt.plot(simdat2[:,0],simdat2[:,1],'b-')\n",
    "    plt.axhline(y=sol1.y[1][-1], color='k', linestyle='-')\n",
    "    plt.axhline(y=sol2.y[0][-1], color='k', linestyle='-')\n",
    "\n",
    "#     plt.plot(sol1.t,sol1.y[1], color='k', linestyle='-')\n",
    "#     plt.plot(sol2.t,sol2.y[0], color='b', linestyle='dashdot')\n",
    "\n",
    "\n",
    "\n",
    "    plt.axis([0, 20000, 0, 50])\n",
    "\n",
    "\n"
   ]
  },
  {
   "cell_type": "code",
   "execution_count": 39,
   "metadata": {},
   "outputs": [
    {
     "data": {
      "image/png": "[encoded data removed]",
      "text/plain": [
       "<Figure size 432x288 with 1 Axes>"
      ]
     },
     "metadata": {
      "needs_background": "light"
     },
     "output_type": "display_data"
    }
   ],
   "source": [
    "plotBoth('SIR',kappa_list[-1],N_list[-1])"
   ]
  },
  {
   "cell_type": "code",
   "execution_count": 42,
   "metadata": {},
   "outputs": [
    {
     "data": {
      "image/png": "[encoded data removed]",
      "text/plain": [
       "<Figure size 432x288 with 1 Axes>"
      ]
     },
     "metadata": {
      "needs_background": "light"
     },
     "output_type": "display_data"
    }
   ],
   "source": [
    "def plotBoth(mdl_name,kappa_val,N_val):\n",
    "    \n",
    "    kappa = kappa_val\n",
    "    ku = \"%.3E\" % kappa\n",
    "    ku = ku.replace(\".\",\"p\")\n",
    "    ku = ku.replace(\"-\",\"m\")\n",
    "    ku = ku.replace(\"+\",\"\")\n",
    "\n",
    "    N = N_val\n",
    "    Nu = \"%.3E\" % N\n",
    "    Nu = Nu.replace(\".\",\"p\")\n",
    "    Nu = Nu.replace(\"-\",\"m\")\n",
    "    Nu = Nu.replace(\"+\",\"\")\n",
    "\n",
    "    flname = mdl_name + 'k_keq_' + ku + '_Neq_' +  Nu\n",
    "    flname2 = 'SI' + 'k_keq_' + ku + '_Neq_' +  Nu\n",
    "    # load the sim-data\n",
    "    simdat = genfromtxt('.' + datPath + mdl_name + '/' + flname, delimiter=',')\n",
    "    simdat2 = genfromtxt('.' + datPath + 'SI' + '/' + flname2, delimiter=',')\n",
    "\n",
    "    #\n",
    "    ##\n",
    "    ###\n",
    "    ####\n",
    "    ###\n",
    "    ##\n",
    "    #\n",
    "\n",
    "    # \n",
    "    # mu, beta, kappa, sigma, N\n",
    "    param = np.array([5e-5, 0.5, kappa, 1, N])\n",
    "\n",
    "    ic_util = np.array([N,0,0])\n",
    "    tend=t_points[-1]\n",
    "    sol1 = solve_ivp(lambda t, y: SIR(t, y, param),\n",
    "                     (0, tend),\n",
    "                     ic_util,\n",
    "                     method='RK45',\n",
    "                     t_eval = t_points,\n",
    "                     atol = 1e-6,\n",
    "                     rtol = 1e-6)\n",
    "\n",
    "    ic_util = np.array([0])\n",
    "    sol2 = solve_ivp(lambda t, y: SI(t, y, param),\n",
    "                     (0, tend),\n",
    "                     ic_util,\n",
    "                     method='RK45',\n",
    "                     t_eval = t_points,\n",
    "                     atol = 1e-4,\n",
    "                     rtol = 1e-4)\n",
    "\n",
    "    plt.plot(simdat[:,0],simdat[:,1],'g-')\n",
    "    plt.plot(simdat2[:,0],simdat2[:,1],'b-')\n",
    "    plt.axhline(y=sol1.y[1][-1], color='k', linestyle='-')\n",
    "    plt.axhline(y=sol2.y[0][-1], color='k', linestyle='-')\n",
    "\n",
    "#     plt.plot(sol1.t,sol1.y[1], color='k', linestyle='-')\n",
    "#     plt.plot(sol2.t,sol2.y[0], color='b', linestyle='dashdot')\n",
    "\n",
    "\n",
    "\n",
    "    plt.axis([0, 20000, 0, 10])\n",
    "\n",
    "\n",
    "\n",
    "\n",
    "plotBoth('SIR',kappa_list[25],N_list[25])\n"
   ]
  },
  {
   "cell_type": "code",
   "execution_count": 55,
   "metadata": {},
   "outputs": [
    {
     "data": {
      "image/png": "[encoded data removed]",
      "text/plain": [
       "<Figure size 432x288 with 1 Axes>"
      ]
     },
     "metadata": {
      "needs_background": "light"
     },
     "output_type": "display_data"
    }
   ],
   "source": [
    "def plotThree(mdl_name,kappa_val,N_val):\n",
    "    \n",
    "    kappa = kappa_val\n",
    "    ku = \"%.3E\" % kappa\n",
    "    ku = ku.replace(\".\",\"p\")\n",
    "    ku = ku.replace(\"-\",\"m\")\n",
    "    ku = ku.replace(\"+\",\"\")\n",
    "\n",
    "    N = N_val\n",
    "    Nu = \"%.3E\" % N\n",
    "    Nu = Nu.replace(\".\",\"p\")\n",
    "    Nu = Nu.replace(\"-\",\"m\")\n",
    "    Nu = Nu.replace(\"+\",\"\")\n",
    "\n",
    "    flname = mdl_name + 'k_keq_' + ku + '_Neq_' +  Nu\n",
    "    flname2 = 'SI' + 'k_keq_' + ku + '_Neq_' +  Nu\n",
    "    flname3 = 'SEIR' + 'k_keq_' + ku + '_Neq_' +  Nu\n",
    "    # load the sim-data\n",
    "    simdat = genfromtxt('.' + datPath + mdl_name + '/' + flname, delimiter=',')\n",
    "    simdat2 = genfromtxt('.' + datPath + 'SI' + '/' + flname2, delimiter=',')\n",
    "    simdat3 = genfromtxt('.' + datPath + 'SEIR' + '/' + flname3, delimiter=',')\n",
    "\n",
    "    #\n",
    "    ##\n",
    "    ###\n",
    "    ####\n",
    "    ###\n",
    "    ##\n",
    "    #\n",
    "\n",
    "    # \n",
    "    # mu, beta, kappa, sigma, N\n",
    "    param = np.array([5e-5, 0.5, kappa, 1, N])\n",
    "\n",
    "    ic_util = np.array([N,0,0])\n",
    "    tend=t_points[-1]\n",
    "    sol1 = solve_ivp(lambda t, y: SIR(t, y, param),\n",
    "                     (0, tend),\n",
    "                     ic_util,\n",
    "                     method='RK45',\n",
    "                     t_eval = t_points,\n",
    "                     atol = 1e-6,\n",
    "                     rtol = 1e-6)\n",
    "\n",
    "    ic_util = np.array([0])\n",
    "    sol2 = solve_ivp(lambda t, y: SI(t, y, param),\n",
    "                     (0, tend),\n",
    "                     ic_util,\n",
    "                     method='RK45',\n",
    "                     t_eval = t_points,\n",
    "                     atol = 1e-6,\n",
    "                     rtol = 1e-6)\n",
    "    \n",
    "    ic_util = np.array([N,0,0,0])\n",
    "    tend=t_points[-1]\n",
    "    sol3 = solve_ivp(lambda t, y: SEIR(t, y, param),\n",
    "                     (0, tend),\n",
    "                     ic_util,\n",
    "                     method='RK45',\n",
    "                     t_eval = t_points,\n",
    "                     atol = 1e-6,\n",
    "                     rtol = 1e-6)\n",
    "\n",
    "#     plt.plot(simdat[:,0],simdat[:,1],'g-')\n",
    "#     plt.plot(simdat2[:,0],simdat2[:,1],'b-')\n",
    "#     plt.plot(simdat3[:,0],simdat3[:,1],'b-')\n",
    "#     plt.axhline(y=sol1.y[1][-1], color='k', linestyle='-')\n",
    "#     plt.axhline(y=sol2.y[0][-1], color='k', linestyle='-')\n",
    "#     plt.axhline(y=sol3.y[0][-1], color='k', linestyle='-')\n",
    "\n",
    "    plt.plot(sol1.t,sol1.y[1], color='k', linestyle='-')\n",
    "#     plt.plot(sol2.t,sol2.y[0], color='b', linestyle='dashdot')\n",
    "    plt.plot(sol3.t,sol3.y[2], color='r', linestyle='dashdot')\n",
    "\n",
    "\n",
    "    plt.axis([20000, 30000, 3.5, 3.75])\n",
    "\n",
    "\n",
    "\n",
    "\n",
    "plotThree('SIR',kappa_list[29],N_list[29])\n",
    "\n"
   ]
  },
  {
   "cell_type": "code",
   "execution_count": null,
   "metadata": {},
   "outputs": [],
   "source": []
  },
  {
   "cell_type": "code",
   "execution_count": null,
   "metadata": {},
   "outputs": [],
   "source": []
  },
  {
   "cell_type": "code",
   "execution_count": null,
   "metadata": {},
   "outputs": [],
   "source": []
  },
  {
   "cell_type": "code",
   "execution_count": null,
   "metadata": {},
   "outputs": [],
   "source": []
  }
 ],
 "metadata": {
  "@webio": {
   "lastCommId": null,
   "lastKernelId": null
  },
  "kernelspec": {
   "display_name": "Python 3",
   "language": "python",
   "name": "python3"
  },
  "language_info": {
   "codemirror_mode": {
    "name": "ipython",
    "version": 3
   },
   "file_extension": ".py",
   "mimetype": "text/x-python",
   "name": "python",
   "nbconvert_exporter": "python",
   "pygments_lexer": "ipython3",
   "version": "3.7.3"
  }
 },
 "nbformat": 4,
 "nbformat_minor": 2
}
