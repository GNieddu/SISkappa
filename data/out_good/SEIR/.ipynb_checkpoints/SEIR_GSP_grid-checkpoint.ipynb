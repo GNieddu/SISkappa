{
 "cells": [
  {
   "cell_type": "code",
   "execution_count": 6,
   "metadata": {},
   "outputs": [],
   "source": [
    "using Distributed \n",
    "addprocs(3)\n",
    "@everywhere using DelimitedFiles\n",
    "@everywhere using Random, Distributions;  Random.seed!();\n",
    "@everywhere using PyPlot\n",
    "@everywhere using Distributed"
   ]
  },
  {
   "cell_type": "code",
   "execution_count": 7,
   "metadata": {},
   "outputs": [],
   "source": [
    "@everywhere using Statistics\n",
    "# using Plots\n",
    "# pyplot()\n",
    "@everywhere using SpecialFunctions\n",
    "@everywhere using QuadGK\n",
    "@everywhere using DataStructures\n",
    "@everywhere using DelimitedFiles\n",
    "@everywhere using Roots\n",
    "@everywhere using DelimitedFiles"
   ]
  },
  {
   "cell_type": "code",
   "execution_count": 8,
   "metadata": {},
   "outputs": [],
   "source": [
    "#SEIRk\n",
    "@everywhere function SEIRk(x,parms)\n",
    "    (S,E,I,R) = x\n",
    "    (μ,β,κ,γ,N,σ) = parms\n",
    "    birth_S = μ*N\n",
    "    death_S = μ*S\n",
    "    exposure = β*S*I/N + κ*S\n",
    "    death_E = μ*E\n",
    "    infection = σ*E\n",
    "    death_I = μ*I\n",
    "    recovery = γ *I\n",
    "    death_R = μ*R\n",
    "    event_weight = [birth_S death_S exposure death_E infection death_I recovery death_R]\n",
    "    event_shift = [[1 0 0 0];\n",
    "        [-1 0 0 0]; [-1 1 0 0]; [0 -1 0 0];\n",
    "        [0 -1 1 0]; [0 0 -1 0]; [0 0 -1 1];\n",
    "        [0 0 0 -1]]\n",
    "    return event_weight, event_shift\n",
    "end\n"
   ]
  },
  {
   "cell_type": "code",
   "execution_count": 9,
   "metadata": {},
   "outputs": [],
   "source": [
    "@everywhere function GSP(F::Function,state,parms,endcondition,time_end)\n",
    "    time_points = collect(0:2:floor(time_end))\n",
    "    I_vec_out = zeros(length(time_points))\n",
    "    I_vec_out[1] = state[3] # note this changed for SEIR, I is positions 3\n",
    "    t = 0 #initial time is zero\n",
    "    a = []    \n",
    "    enact_event = zeros(0)\n",
    "\n",
    "    while t<(time_points[end] +2)\n",
    "        \n",
    "        # to build time interval\n",
    "        t1 = t\n",
    "        \n",
    "        ###############\n",
    "        ## time step ##\n",
    "        ###############\n",
    "        a = F(state,parms)\n",
    "\n",
    "        cumul_a = cumsum(a[1][1,:])\n",
    "        num_o_events = length(a[1][1,:])\n",
    "        a0 = cumul_a[num_o_events]\n",
    "        #random numbers\n",
    "        r1 = rand()\n",
    "        r2 = rand()\n",
    "        dtau = (1/a0)*log(1/r1)\n",
    "        t += dtau\n",
    "        \n",
    "        ################################\n",
    "        ### Append the output vector ###\n",
    "        ################################\n",
    "\n",
    "        timeloc =  findall(x->(x>t1 && x<=t), time_points)\n",
    "        I_vec_out[timeloc] = repeat([state[3]],inner=1,outer=length(timeloc))\n",
    "        \n",
    "\n",
    "        ##############################\n",
    "        ### determine event ##########\n",
    "        ##############################\n",
    "        marker = r2*a0\n",
    "        i=1\n",
    "        while i<=num_o_events\n",
    "            if marker<=cumul_a[i]\n",
    "                enact_event = i\n",
    "                i = num_o_events+1\n",
    "            end\n",
    "            i+=1\n",
    "        end\n",
    "\n",
    "\n",
    "        #######################\n",
    "        ### change the state ##\n",
    "        #######################\n",
    "        state = state + (a[2][enact_event,:])' #these are the state alterations defined by the function\n",
    "\n",
    "\n",
    "    end #end while\n",
    "\n",
    "    return time_points, I_vec_out\n",
    "end "
   ]
  },
  {
   "cell_type": "code",
   "execution_count": 10,
   "metadata": {},
   "outputs": [],
   "source": [
    "###################\n",
    "### run GSP sim ###\n",
    "###################\n",
    "@everywhere using Printf\n",
    "@everywhere function run_GSP(kval_u,Nval_u)\n",
    "    \n",
    "    kmat = readdlm(\"/Users/MegGarr/Documents/SISkappa/data/in/SIS_IC_k.csv\", ',', Float64)\n",
    "    bleck = 18\n",
    "    krow_util = findall(x->x==round(kval_u,digits=bleck), round.(kmat,digits=bleck))\n",
    "    krow = krow_util[1][1]\n",
    "\n",
    "    Nmat = readdlm(\"/Users/MegGarr/Documents/SISkappa/data/in/SIS_IC_N.csv\", ',', Float64)\n",
    "    blah = 9\n",
    "    Ncol_util = findall(x->x==round(Nval_u,digits=blah), round.(Nmat,digits=blah))\n",
    "    Ncol = Ncol_util[1][2] # returns the correct column\n",
    "\n",
    "    Smat = readdlm(\"/Users/MegGarr/Documents/SISkappa/data/in/SEIR_IC_S.csv\", ',', Float64)\n",
    "    Emat = readdlm(\"/Users/MegGarr/Documents/SISkappa/data/in/SEIR_IC_E.csv\", ',', Float64)\n",
    "    ICmat = readdlm(\"/Users/MegGarr/Documents/SISkappa/data/in/SEIR_IC_I.csv\", ',', Float64)\n",
    "\n",
    "    S_IC = Smat[krow,Ncol]\n",
    "    E_IC = Emat[krow,Ncol]\n",
    "    I_IC = ICmat[krow,Ncol]\n",
    "\n",
    "    R_IC = floor(Nval_u) - (S_IC + E_IC + I_IC)\n",
    "    u0 = [S_IC E_IC I_IC R_IC]\n",
    "\n",
    "    # set parameters find equilibrium\n",
    "    param=[5e-5 0.5 kval_u 1 Nval_u 1/3]\n",
    "\n",
    "    # Make initial conditions\n",
    "    (μ,β,κ,γ,N,σ) = param\n",
    "\n",
    "    # run the Gillespie simulation\n",
    "    simdat = GSP(SEIRk,u0,param,20000,2000);\n",
    "    n_len = length(simdat[1])\n",
    "    kap_vec = zeros(n_len)\n",
    "    kap_vec[1] = κ\n",
    "    N_vec = zeros(n_len)\n",
    "    N_vec[1] = N\n",
    "    \n",
    "    # Make strings for file names\n",
    "    ku = @sprintf(\"%.3E\", κ)\n",
    "    ku = replace(ku, \".\" => \"p\")\n",
    "    ku = replace(ku, \"-\" => \"m\")\n",
    "    ku = replace(ku, \"+\" => \"\")\n",
    "    \n",
    "    Nu = @sprintf(\"%.3E\", N)\n",
    "    Nu = replace(Nu, \".\" => \"p\")\n",
    "    Nu = replace(Nu, \"-\" => \"m\")\n",
    "    Nu = replace(Nu, \"+\" => \"\")\n",
    "    \n",
    "    simdat_util = [simdat[1] simdat[2] kap_vec N_vec] \n",
    "    flname = \"SEIRk_keq_\"*ku*\"_Neq_\"*Nu\n",
    "    writedlm(flname,  simdat_util, ',') \n",
    "\n",
    "    return nothing\n",
    "#     return simdat\n",
    "end"
   ]
  },
  {
   "cell_type": "code",
   "execution_count": 11,
   "metadata": {},
   "outputs": [
    {
     "data": {
      "text/plain": [
       "6-element Array{Nothing,1}:\n",
       " nothing\n",
       " nothing\n",
       " nothing\n",
       " nothing\n",
       " nothing\n",
       " nothing"
      ]
     },
     "execution_count": 11,
     "metadata": {},
     "output_type": "execute_result"
    }
   ],
   "source": [
    "# make sample list of kappa values\n",
    "kappa_list_util = 10.0 .^(range(-7,stop=-4,length=30))\n",
    "kappa_list = zeros(0)\n",
    "\n",
    "# make sample list of N values\n",
    "N_list_util = 10.0 .^(range(2,stop=5,length=30))\n",
    "N_list = zeros(0)\n",
    "\n",
    "for i in kappa_list_util\n",
    "    for j in N_list_util\n",
    "        # make lists for pmap\n",
    "        append!(kappa_list, i)\n",
    "        append!(N_list, j)\n",
    "    end\n",
    "end\n",
    "kappa_list = kappa_list[end-5:end]\n",
    "N_list = N_list[end-5:end]\n",
    "pmap(run_GSP,kappa_list,N_list)"
   ]
  },
  {
   "cell_type": "code",
   "execution_count": 1,
   "metadata": {},
   "outputs": [],
   "source": []
  },
  {
   "cell_type": "code",
   "execution_count": 5,
   "metadata": {},
   "outputs": [
    {
     "data": {
      "text/plain": [
       "2-element Array{Float64,1}:\n",
       " 2.0\n",
       " 3.0"
      ]
     },
     "execution_count": 5,
     "metadata": {},
     "output_type": "execute_result"
    }
   ],
   "source": []
  },
  {
   "cell_type": "code",
   "execution_count": null,
   "metadata": {},
   "outputs": [],
   "source": []
  }
 ],
 "metadata": {
  "@webio": {
   "lastCommId": null,
   "lastKernelId": null
  },
  "kernelspec": {
   "display_name": "Julia 1.1.1",
   "language": "julia",
   "name": "julia-1.1"
  },
  "language_info": {
   "file_extension": ".jl",
   "mimetype": "application/julia",
   "name": "julia",
   "version": "1.1.1"
  }
 },
 "nbformat": 4,
 "nbformat_minor": 2
}
